{
 "cells": [
  {
   "cell_type": "code",
   "execution_count": 1,
   "metadata": {},
   "outputs": [],
   "source": [
    "import pathlib\n",
    "import pandas as pd"
   ]
  },
  {
   "cell_type": "code",
   "execution_count": 2,
   "metadata": {},
   "outputs": [],
   "source": [
    "our_md5_file = \"md5sum_check_ours.txt\"\n",
    "their_md5_file = \"idr0080-way-perturbation-20200805-s3.ms5sums\""
   ]
  },
  {
   "cell_type": "code",
   "execution_count": 29,
   "metadata": {},
   "outputs": [
    {
     "name": "stdout",
     "output_type": "stream",
     "text": [
      "(138247, 2)\n"
     ]
    },
    {
     "data": {
      "text/html": [
       "<div>\n",
       "<style scoped>\n",
       "    .dataframe tbody tr th:only-of-type {\n",
       "        vertical-align: middle;\n",
       "    }\n",
       "\n",
       "    .dataframe tbody tr th {\n",
       "        vertical-align: top;\n",
       "    }\n",
       "\n",
       "    .dataframe thead th {\n",
       "        text-align: right;\n",
       "    }\n",
       "</style>\n",
       "<table border=\"1\" class=\"dataframe\">\n",
       "  <thead>\n",
       "    <tr style=\"text-align: right;\">\n",
       "      <th></th>\n",
       "      <th>md5</th>\n",
       "      <th>file_name</th>\n",
       "    </tr>\n",
       "  </thead>\n",
       "  <tbody>\n",
       "    <tr>\n",
       "      <th>0</th>\n",
       "      <td>428eebd360ffa11a20d07c47b3485c89</td>\n",
       "      <td>./illum_corrected_file_list.txt</td>\n",
       "    </tr>\n",
       "    <tr>\n",
       "      <th>1</th>\n",
       "      <td>194577a7e20bdcc7afbb718f502c134c</td>\n",
       "      <td>./images/SQ00014610/Images/.DS_Store</td>\n",
       "    </tr>\n",
       "    <tr>\n",
       "      <th>2</th>\n",
       "      <td>0d3c88fa0c0b58081785a12486cfeda9</td>\n",
       "      <td>./images/SQ00014610/Images/cp.is.done</td>\n",
       "    </tr>\n",
       "    <tr>\n",
       "      <th>3</th>\n",
       "      <td>d542db49afbc3494553c0e1e36704821</td>\n",
       "      <td>./images/SQ00014610/Images/r01c01f01p01-ch1sk1...</td>\n",
       "    </tr>\n",
       "    <tr>\n",
       "      <th>4</th>\n",
       "      <td>87ff2c74ca9f9ef6b3bc9fbf17598c28</td>\n",
       "      <td>./images/SQ00014610/Images/r01c01f01p01-ch2sk1...</td>\n",
       "    </tr>\n",
       "  </tbody>\n",
       "</table>\n",
       "</div>"
      ],
      "text/plain": [
       "                                md5  \\\n",
       "0  428eebd360ffa11a20d07c47b3485c89   \n",
       "1  194577a7e20bdcc7afbb718f502c134c   \n",
       "2  0d3c88fa0c0b58081785a12486cfeda9   \n",
       "3  d542db49afbc3494553c0e1e36704821   \n",
       "4  87ff2c74ca9f9ef6b3bc9fbf17598c28   \n",
       "\n",
       "                                           file_name  \n",
       "0                    ./illum_corrected_file_list.txt  \n",
       "1               ./images/SQ00014610/Images/.DS_Store  \n",
       "2              ./images/SQ00014610/Images/cp.is.done  \n",
       "3  ./images/SQ00014610/Images/r01c01f01p01-ch1sk1...  \n",
       "4  ./images/SQ00014610/Images/r01c01f01p01-ch2sk1...  "
      ]
     },
     "execution_count": 29,
     "metadata": {},
     "output_type": "execute_result"
    }
   ],
   "source": [
    "our_df = pd.read_csv(our_md5_file, sep=\" \", header=None).drop([1], axis=\"columns\")\n",
    "our_df.columns = [\"md5\", \"file_name\"]\n",
    "print(our_df.shape)\n",
    "our_df.head()"
   ]
  },
  {
   "cell_type": "code",
   "execution_count": 30,
   "metadata": {},
   "outputs": [
    {
     "name": "stdout",
     "output_type": "stream",
     "text": [
      "(138245, 2)\n"
     ]
    },
    {
     "data": {
      "text/html": [
       "<div>\n",
       "<style scoped>\n",
       "    .dataframe tbody tr th:only-of-type {\n",
       "        vertical-align: middle;\n",
       "    }\n",
       "\n",
       "    .dataframe tbody tr th {\n",
       "        vertical-align: top;\n",
       "    }\n",
       "\n",
       "    .dataframe thead th {\n",
       "        text-align: right;\n",
       "    }\n",
       "</style>\n",
       "<table border=\"1\" class=\"dataframe\">\n",
       "  <thead>\n",
       "    <tr style=\"text-align: right;\">\n",
       "      <th></th>\n",
       "      <th>md5</th>\n",
       "      <th>file_name</th>\n",
       "    </tr>\n",
       "  </thead>\n",
       "  <tbody>\n",
       "    <tr>\n",
       "      <th>0</th>\n",
       "      <td>0d3c88fa0c0b58081785a12486cfeda9</td>\n",
       "      <td>./images/SQ00014610/Images/cp.is.done</td>\n",
       "    </tr>\n",
       "    <tr>\n",
       "      <th>1</th>\n",
       "      <td>194577a7e20bdcc7afbb718f502c134c</td>\n",
       "      <td>./images/SQ00014610/Images/.DS_Store</td>\n",
       "    </tr>\n",
       "    <tr>\n",
       "      <th>2</th>\n",
       "      <td>d542db49afbc3494553c0e1e36704821</td>\n",
       "      <td>./images/SQ00014610/Images/r01c01f01p01-ch1sk1...</td>\n",
       "    </tr>\n",
       "    <tr>\n",
       "      <th>3</th>\n",
       "      <td>87ff2c74ca9f9ef6b3bc9fbf17598c28</td>\n",
       "      <td>./images/SQ00014610/Images/r01c01f01p01-ch2sk1...</td>\n",
       "    </tr>\n",
       "    <tr>\n",
       "      <th>4</th>\n",
       "      <td>3d5a58faeea266f0c967d02ae1df6a5a</td>\n",
       "      <td>./images/SQ00014610/Images/r01c01f01p01-ch3sk1...</td>\n",
       "    </tr>\n",
       "  </tbody>\n",
       "</table>\n",
       "</div>"
      ],
      "text/plain": [
       "                                md5  \\\n",
       "0  0d3c88fa0c0b58081785a12486cfeda9   \n",
       "1  194577a7e20bdcc7afbb718f502c134c   \n",
       "2  d542db49afbc3494553c0e1e36704821   \n",
       "3  87ff2c74ca9f9ef6b3bc9fbf17598c28   \n",
       "4  3d5a58faeea266f0c967d02ae1df6a5a   \n",
       "\n",
       "                                           file_name  \n",
       "0              ./images/SQ00014610/Images/cp.is.done  \n",
       "1               ./images/SQ00014610/Images/.DS_Store  \n",
       "2  ./images/SQ00014610/Images/r01c01f01p01-ch1sk1...  \n",
       "3  ./images/SQ00014610/Images/r01c01f01p01-ch2sk1...  \n",
       "4  ./images/SQ00014610/Images/r01c01f01p01-ch3sk1...  "
      ]
     },
     "execution_count": 30,
     "metadata": {},
     "output_type": "execute_result"
    }
   ],
   "source": [
    "their_df = pd.read_csv(their_md5_file, sep=\" \").reset_index(drop=False).drop([\"level_1\"], axis=\"columns\")\n",
    "their_df.columns = [\"md5\", \"file_name\"]\n",
    "\n",
    "their_df.file_name = (\n",
    "    their_df.file_name.str.replace(\n",
    "        \"projects/2015_07_01_Cell_Health_Vazquez_Cancer_Broad/illumcorrected_CRISPR_PILOT_B1\", \".\"\n",
    "    )\n",
    ")\n",
    "\n",
    "print(their_df.shape)\n",
    "their_df.head()"
   ]
  },
  {
   "cell_type": "code",
   "execution_count": 38,
   "metadata": {},
   "outputs": [
    {
     "data": {
      "text/plain": [
       "True    138245\n",
       "Name: matched, dtype: int64"
      ]
     },
     "execution_count": 38,
     "metadata": {},
     "output_type": "execute_result"
    }
   ],
   "source": [
    "combined_df = our_df.merge(their_df, on=\"file_name\", how=\"right\", suffixes=[\"_ours\", \"_theirs\"])\n",
    "combined_df = combined_df.assign(matched=combined_df.md5_ours == combined_df.md5_theirs)\n",
    "\n",
    "combined_df.matched.value_counts()"
   ]
  }
 ],
 "metadata": {
  "kernelspec": {
   "display_name": "Python 3",
   "language": "python",
   "name": "python3"
  },
  "language_info": {
   "codemirror_mode": {
    "name": "ipython",
    "version": 3
   },
   "file_extension": ".py",
   "mimetype": "text/x-python",
   "name": "python",
   "nbconvert_exporter": "python",
   "pygments_lexer": "ipython3",
   "version": "3.7.1"
  }
 },
 "nbformat": 4,
 "nbformat_minor": 4
}
